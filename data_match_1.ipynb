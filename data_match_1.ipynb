{
 "cells": [
  {
   "cell_type": "code",
   "execution_count": null,
   "metadata": {},
   "outputs": [],
   "source": [
    "#!pip install pandas\n",
    "#!pip install numpy\n",
    "#!pip install scikit-learn\n",
    "#!pip install huggingface_hub\n",
    "#!pip install transformers\n",
    "#!pip install torch==2.0.0 torchvision==0.15.0 torchaudio==2.0.1\n",
    "#!pip install accelerate>=0.26.0\n",
    "#!pip install huggingface_hub"
   ]
  },
  {
   "cell_type": "code",
   "execution_count": 1,
   "metadata": {},
   "outputs": [
    {
     "name": "stderr",
     "output_type": "stream",
     "text": [
      "/Users/shilpasingh/Desktop/STUDY/2_TECHNICAL/CODE/CODE FILES/data_scientist_project/env3.10/lib/python3.10/site-packages/tqdm/auto.py:21: TqdmWarning: IProgress not found. Please update jupyter and ipywidgets. See https://ipywidgets.readthedocs.io/en/stable/user_install.html\n",
      "  from .autonotebook import tqdm as notebook_tqdm\n"
     ]
    }
   ],
   "source": [
    "import pandas as pd\n",
    "import numpy as np\n",
    "import re\n",
    "from sklearn.metrics.pairwise import cosine_similarity\n",
    "from transformers import AutoModel\n",
    "from transformers import LlamaTokenizer\n",
    "from transformers import AutoModelForCausalLM, AutoTokenizer\n",
    "import os\n",
    "import torch\n",
    "import huggingface_hub\n",
    "import time\n",
    "from sklearn.metrics import precision_score, recall_score\n"
   ]
  },
  {
   "cell_type": "code",
   "execution_count": 2,
   "metadata": {},
   "outputs": [],
   "source": [
    "# Load data\n",
    "df_int=pd.read_csv(\"Data_Internal.csv\")\n",
    "df_ext=pd.read_csv(\"Data_External.csv\")"
   ]
  },
  {
   "cell_type": "code",
   "execution_count": 3,
   "metadata": {},
   "outputs": [
    {
     "data": {
      "text/html": [
       "<div>\n",
       "<style scoped>\n",
       "    .dataframe tbody tr th:only-of-type {\n",
       "        vertical-align: middle;\n",
       "    }\n",
       "\n",
       "    .dataframe tbody tr th {\n",
       "        vertical-align: top;\n",
       "    }\n",
       "\n",
       "    .dataframe thead th {\n",
       "        text-align: right;\n",
       "    }\n",
       "</style>\n",
       "<table border=\"1\" class=\"dataframe\">\n",
       "  <thead>\n",
       "    <tr style=\"text-align: right;\">\n",
       "      <th></th>\n",
       "      <th>NAME</th>\n",
       "      <th>OCS_NAME</th>\n",
       "      <th>LONG_NAME</th>\n",
       "    </tr>\n",
       "  </thead>\n",
       "  <tbody>\n",
       "    <tr>\n",
       "      <th>0</th>\n",
       "      <td>3 Mskt DkChocMnt 1.24oz</td>\n",
       "      <td>3 Mskt DkChocMnt 1.24oz</td>\n",
       "      <td>3 Musketeers Dark Chocolate Mint (1.24oz)</td>\n",
       "    </tr>\n",
       "    <tr>\n",
       "      <th>1</th>\n",
       "      <td>NaN</td>\n",
       "      <td>Costco Choc Mini 4.69lb</td>\n",
       "      <td>Costco Chocolate Mini (4.69lb)</td>\n",
       "    </tr>\n",
       "    <tr>\n",
       "      <th>2</th>\n",
       "      <td>Dove Dk Choc Bars 1.3oz</td>\n",
       "      <td>Dove Dk Choc Bars 1.3oz</td>\n",
       "      <td>Dove Dark Chocolate Bars (1.3oz)</td>\n",
       "    </tr>\n",
       "    <tr>\n",
       "      <th>3</th>\n",
       "      <td>Fishers ChocPnut 3.5oz</td>\n",
       "      <td>Fishers ChocPnut 3.5oz</td>\n",
       "      <td>Fisher's Chocolate Peanuts (3.5oz)</td>\n",
       "    </tr>\n",
       "    <tr>\n",
       "      <th>4</th>\n",
       "      <td>HariboGummiGoldBear2oz</td>\n",
       "      <td>HariboGummiGoldBear2oz</td>\n",
       "      <td>Haribo Gummi Gold-Bears (2oz)</td>\n",
       "    </tr>\n",
       "    <tr>\n",
       "      <th>5</th>\n",
       "      <td>NaN</td>\n",
       "      <td>Heide Gummi Bears 1.4oz</td>\n",
       "      <td>Heide Gummi Bears (1.4oz)</td>\n",
       "    </tr>\n",
       "    <tr>\n",
       "      <th>6</th>\n",
       "      <td>Hrshy Mlk Choc 2.1oz</td>\n",
       "      <td>Hrshy Mlk Choc 2.1oz</td>\n",
       "      <td>Hersheys Milk Chocolate (2.1oz)</td>\n",
       "    </tr>\n",
       "    <tr>\n",
       "      <th>7</th>\n",
       "      <td>Hrshy Choc Almd 1.45oz</td>\n",
       "      <td>Hrshy Choc Almd 1.45oz</td>\n",
       "      <td>Hersheys Milk Chocolate with Almonds (1.45oz)</td>\n",
       "    </tr>\n",
       "    <tr>\n",
       "      <th>8</th>\n",
       "      <td>Hrshy Choc Almd 1.85oz</td>\n",
       "      <td>Hrshy Choc Almd 1.85oz</td>\n",
       "      <td>Hersheys Milk Chocolate with Almonds (1.85oz)</td>\n",
       "    </tr>\n",
       "    <tr>\n",
       "      <th>9</th>\n",
       "      <td>Hrshy Milk Duds 1.85oz</td>\n",
       "      <td>Hrshy Milk Duds 1.85oz</td>\n",
       "      <td>Hersheys Milk Duds (1.85oz)</td>\n",
       "    </tr>\n",
       "  </tbody>\n",
       "</table>\n",
       "</div>"
      ],
      "text/plain": [
       "                      NAME                 OCS_NAME  \\\n",
       "0  3 Mskt DkChocMnt 1.24oz  3 Mskt DkChocMnt 1.24oz   \n",
       "1                      NaN  Costco Choc Mini 4.69lb   \n",
       "2  Dove Dk Choc Bars 1.3oz  Dove Dk Choc Bars 1.3oz   \n",
       "3   Fishers ChocPnut 3.5oz   Fishers ChocPnut 3.5oz   \n",
       "4   HariboGummiGoldBear2oz   HariboGummiGoldBear2oz   \n",
       "5                      NaN  Heide Gummi Bears 1.4oz   \n",
       "6     Hrshy Mlk Choc 2.1oz     Hrshy Mlk Choc 2.1oz   \n",
       "7   Hrshy Choc Almd 1.45oz   Hrshy Choc Almd 1.45oz   \n",
       "8   Hrshy Choc Almd 1.85oz   Hrshy Choc Almd 1.85oz   \n",
       "9   Hrshy Milk Duds 1.85oz   Hrshy Milk Duds 1.85oz   \n",
       "\n",
       "                                       LONG_NAME  \n",
       "0      3 Musketeers Dark Chocolate Mint (1.24oz)  \n",
       "1                 Costco Chocolate Mini (4.69lb)  \n",
       "2               Dove Dark Chocolate Bars (1.3oz)  \n",
       "3             Fisher's Chocolate Peanuts (3.5oz)  \n",
       "4                  Haribo Gummi Gold-Bears (2oz)  \n",
       "5                      Heide Gummi Bears (1.4oz)  \n",
       "6                Hersheys Milk Chocolate (2.1oz)  \n",
       "7  Hersheys Milk Chocolate with Almonds (1.45oz)  \n",
       "8  Hersheys Milk Chocolate with Almonds (1.85oz)  \n",
       "9                    Hersheys Milk Duds (1.85oz)  "
      ]
     },
     "execution_count": 3,
     "metadata": {},
     "output_type": "execute_result"
    }
   ],
   "source": [
    "df_int.head(10)\n"
   ]
  },
  {
   "cell_type": "code",
   "execution_count": 4,
   "metadata": {},
   "outputs": [
    {
     "data": {
      "text/html": [
       "<div>\n",
       "<style scoped>\n",
       "    .dataframe tbody tr th:only-of-type {\n",
       "        vertical-align: middle;\n",
       "    }\n",
       "\n",
       "    .dataframe tbody tr th {\n",
       "        vertical-align: top;\n",
       "    }\n",
       "\n",
       "    .dataframe thead th {\n",
       "        text-align: right;\n",
       "    }\n",
       "</style>\n",
       "<table border=\"1\" class=\"dataframe\">\n",
       "  <thead>\n",
       "    <tr style=\"text-align: right;\">\n",
       "      <th></th>\n",
       "      <th>PRODUCT_NAME</th>\n",
       "      <th>UNIT_OF_MEASURE</th>\n",
       "    </tr>\n",
       "  </thead>\n",
       "  <tbody>\n",
       "    <tr>\n",
       "      <th>0</th>\n",
       "      <td>5 HOUR XTRA GRAPE 1.93 OZ</td>\n",
       "      <td>1</td>\n",
       "    </tr>\n",
       "    <tr>\n",
       "      <th>1</th>\n",
       "      <td>B - PB &amp; HONEY SAMMICH</td>\n",
       "      <td>1</td>\n",
       "    </tr>\n",
       "    <tr>\n",
       "      <th>2</th>\n",
       "      <td>B - RUDY FARMS - SAUSAGE AND BISCUIT TWIN</td>\n",
       "      <td>1</td>\n",
       "    </tr>\n",
       "    <tr>\n",
       "      <th>3</th>\n",
       "      <td>BANANAS - FRESH</td>\n",
       "      <td>1</td>\n",
       "    </tr>\n",
       "    <tr>\n",
       "      <th>4</th>\n",
       "      <td>BOBOS PB&amp;J GRAPE 2.1 OZ</td>\n",
       "      <td>1</td>\n",
       "    </tr>\n",
       "    <tr>\n",
       "      <th>5</th>\n",
       "      <td>BODY ARMOR STRWBRY BANANA 16 OZ</td>\n",
       "      <td>1</td>\n",
       "    </tr>\n",
       "    <tr>\n",
       "      <th>6</th>\n",
       "      <td>BR ESPRESSO W/ CREAM 11 OZ</td>\n",
       "      <td>1</td>\n",
       "    </tr>\n",
       "    <tr>\n",
       "      <th>7</th>\n",
       "      <td>Bumble Bee Tuna Salad 3.5oz</td>\n",
       "      <td>1</td>\n",
       "    </tr>\n",
       "    <tr>\n",
       "      <th>8</th>\n",
       "      <td>CELSIUS ORANGE ENERGY 12 OZ</td>\n",
       "      <td>1</td>\n",
       "    </tr>\n",
       "    <tr>\n",
       "      <th>9</th>\n",
       "      <td>CELSIUS PEACH VIBE 12 OZ</td>\n",
       "      <td>1</td>\n",
       "    </tr>\n",
       "  </tbody>\n",
       "</table>\n",
       "</div>"
      ],
      "text/plain": [
       "                                PRODUCT_NAME  UNIT_OF_MEASURE\n",
       "0                  5 HOUR XTRA GRAPE 1.93 OZ                1\n",
       "1                     B - PB & HONEY SAMMICH                1\n",
       "2  B - RUDY FARMS - SAUSAGE AND BISCUIT TWIN                1\n",
       "3                            BANANAS - FRESH                1\n",
       "4                    BOBOS PB&J GRAPE 2.1 OZ                1\n",
       "5            BODY ARMOR STRWBRY BANANA 16 OZ                1\n",
       "6                 BR ESPRESSO W/ CREAM 11 OZ                1\n",
       "7                Bumble Bee Tuna Salad 3.5oz                1\n",
       "8                CELSIUS ORANGE ENERGY 12 OZ                1\n",
       "9                   CELSIUS PEACH VIBE 12 OZ                1"
      ]
     },
     "execution_count": 4,
     "metadata": {},
     "output_type": "execute_result"
    }
   ],
   "source": [
    "df_ext.head(10)"
   ]
  },
  {
   "cell_type": "code",
   "execution_count": 5,
   "metadata": {},
   "outputs": [],
   "source": [
    "# Standardize the text\n",
    "df_int['LONG_NAME']=df_int['LONG_NAME'].str.lower().str.strip()\n",
    "df_ext['PRODUCT_NAME']=df_ext['PRODUCT_NAME'].str.lower().str.strip()"
   ]
  },
  {
   "cell_type": "code",
   "execution_count": null,
   "metadata": {},
   "outputs": [],
   "source": [
    "#model_name = \"gpt2\"  \n",
    "#model_name = \"distilbert-base-uncased\"\n",
    "#model_name = \"facebook/bart-large\""
   ]
  },
  {
   "cell_type": "code",
   "execution_count": 6,
   "metadata": {},
   "outputs": [],
   "source": [
    "#local_model_path = \"/root/.cache/huggingface/hub/meta-llama/Llama-2-7b\"\n",
    "#local_model_path = \"/Users/shilpasingh/.cache/huggingface/hub/models--meta-llama--Llama-2-7b\"\n",
    "\n",
    "\n",
    "base_path = \"/Users/shilpasingh/.cache/huggingface/hub/models--meta-llama--Llama-2-7b\"\n",
    "snapshot_path = os.path.join(base_path, \"snapshots\")\n",
    "\n",
    "# Get the latest snapshot directory\n",
    "latest_snapshot = sorted(os.listdir(snapshot_path))[-1]  # Pick the latest one\n",
    "local_model_path = os.path.join(snapshot_path, latest_snapshot)"
   ]
  },
  {
   "cell_type": "code",
   "execution_count": 7,
   "metadata": {},
   "outputs": [
    {
     "name": "stderr",
     "output_type": "stream",
     "text": [
      "/Users/shilpasingh/Desktop/STUDY/2_TECHNICAL/CODE/CODE FILES/data_scientist_project/env3.10/lib/python3.10/site-packages/torchvision/io/image.py:13: UserWarning: Failed to load image Python extension: 'dlopen(/Users/shilpasingh/Desktop/STUDY/2_TECHNICAL/CODE/CODE FILES/data_scientist_project/env3.10/lib/python3.10/site-packages/torchvision/image.so, 0x0006): Symbol not found: __ZN3c1017RegisterOperatorsD1Ev\n",
      "  Referenced from: <58F76EBD-0E69-3A37-BBFE-1B46CEF60F63> /Users/shilpasingh/Desktop/STUDY/2_TECHNICAL/CODE/CODE FILES/data_scientist_project/env3.10/lib/python3.10/site-packages/torchvision/image.so\n",
      "  Expected in:     <E3D17B4A-4867-3D49-BC92-E04C28EE0F45> /Users/shilpasingh/Desktop/STUDY/2_TECHNICAL/CODE/CODE FILES/data_scientist_project/env3.10/lib/python3.10/site-packages/torch/lib/libtorch_cpu.dylib'If you don't plan on using image functionality from `torchvision.io`, you can ignore this warning. Otherwise, there might be something wrong with your environment. Did you have `libjpeg` or `libpng` installed before building `torchvision` from source?\n",
      "  warn(\n"
     ]
    }
   ],
   "source": [
    "# Load LLaMA Model & Tokenizer from Hugging Face\n",
    "model_name = \"gpt2\"  \n",
    "tokenizer=AutoTokenizer.from_pretrained(model_name,use_fast=True)\n",
    "model=AutoModel.from_pretrained(model_name, torch_dtype=torch.float16, device_map=\"cpu\")\n",
    "\n",
    "#tokenizer = LlamaTokenizer.from_pretrained(\"meta-llama/Llama-2-7b\")\n",
    "#tokenizer = AutoTokenizer.from_pretrained(local_model_path)\n",
    "\n",
    "# # Load the model\n",
    "# model = AutoModelForCausalLM.from_pretrained(\n",
    "#     local_model_path,\n",
    "#     torch_dtype=torch.float16,  # Change to torch.float32 if needed\n",
    "#     device_map=\"auto\"\n",
    "# )\n",
    "\n"
   ]
  },
  {
   "cell_type": "code",
   "execution_count": 8,
   "metadata": {},
   "outputs": [],
   "source": [
    "tokenizer.pad_token = tokenizer.eos_token"
   ]
  },
  {
   "cell_type": "code",
   "execution_count": 9,
   "metadata": {},
   "outputs": [],
   "source": [
    "def clean_text(text):\n",
    "    text=str(text).lower().strip()\n",
    "    text=re.sub(r'[^a-zA-Z0-9 ]','',text) # Remove Special characters\n",
    "    text=re.sub(r'\\s+',' ',text) # Remove extra spaces\n",
    "    return text"
   ]
  },
  {
   "cell_type": "code",
   "execution_count": 10,
   "metadata": {},
   "outputs": [],
   "source": [
    "# Apply cleaning to product names\n",
    "df_ext['PRODUCT_NAME']=df_ext['PRODUCT_NAME'].apply(clean_text)\n",
    "df_int['LONG_NAME']=df_int['LONG_NAME'].apply(clean_text)"
   ]
  },
  {
   "cell_type": "code",
   "execution_count": 11,
   "metadata": {},
   "outputs": [],
   "source": [
    "def get_embedding(text):\n",
    "    inputs = tokenizer(text, return_tensors=\"pt\", padding=True, truncation=True, max_length=512)\n",
    "    # Ensure model is on CPU and perform inference\n",
    "    outputs = model(**inputs)\n",
    "    embeddings = outputs.last_hidden_state.mean(dim=1).cpu().detach().numpy()  # Get embeddings\n",
    "    return embeddings\n"
   ]
  },
  {
   "cell_type": "code",
   "execution_count": 12,
   "metadata": {},
   "outputs": [
    {
     "name": "stdout",
     "output_type": "stream",
     "text": [
      "Time taken: 9161.032320976257 seconds\n"
     ]
    }
   ],
   "source": [
    "# Compute embedding for internal product names\n",
    "start_time=time.time()\n",
    "internal_embeddins=np.vstack([get_embedding(name) for name in df_int['LONG_NAME']])\n",
    "print(f\"Time taken: {time.time() - start_time} seconds\")"
   ]
  },
  {
   "cell_type": "code",
   "execution_count": 13,
   "metadata": {},
   "outputs": [],
   "source": [
    "def find_best_match_bart(query, internal_embeddins, threshold=0.7):\n",
    "    query_embedding = get_embedding(query)\n",
    "    similarities = cosine_similarity(query_embedding, internal_embeddins).squeeze()\n",
    "    best_idx = int(similarities.argmax())\n",
    "    return df_int.iloc[best_idx][\"LONG_NAME\"] if similarities[best_idx] > threshold else None"
   ]
  },
  {
   "cell_type": "code",
   "execution_count": 14,
   "metadata": {},
   "outputs": [],
   "source": [
    "# Apply matching\n",
    "matches = []\n",
    "true_labels = []\n",
    "predicted_labels = []\n",
    "\n",
    "for ext_product in df_ext[\"PRODUCT_NAME\"]:\n",
    "    bart_match = find_best_match_bart(ext_product, internal_embeddins)\n",
    "    matches.append((ext_product, bart_match))\n",
    "    true_labels.append(1 if ext_product in df_int[\"LONG_NAME\"].values else 0)\n",
    "    predicted_labels.append(1 if bart_match else 0)\n"
   ]
  },
  {
   "cell_type": "code",
   "execution_count": 17,
   "metadata": {},
   "outputs": [
    {
     "name": "stdout",
     "output_type": "stream",
     "text": [
      "Matching completed. Results saved in Matched_Results.csv.\n"
     ]
    }
   ],
   "source": [
    "# Convert result to Dataframe\n",
    "\n",
    "matched_df = pd.DataFrame(matches, columns=[\"External_Product_Name\", \"Matched_Internal_Name\"])\n",
    "matched_df.to_csv(\"Matched_Results.csv\", index=False)\n",
    "print(\"Matching completed. Results saved in Matched_Results.csv.\")"
   ]
  },
  {
   "cell_type": "code",
   "execution_count": 16,
   "metadata": {},
   "outputs": [
    {
     "name": "stdout",
     "output_type": "stream",
     "text": [
      "Precision: 0.0000, Recall: 0.0000\n"
     ]
    },
    {
     "name": "stderr",
     "output_type": "stream",
     "text": [
      "/Users/shilpasingh/Desktop/STUDY/2_TECHNICAL/CODE/CODE FILES/data_scientist_project/env3.10/lib/python3.10/site-packages/sklearn/metrics/_classification.py:1565: UndefinedMetricWarning: Recall is ill-defined and being set to 0.0 due to no true samples. Use `zero_division` parameter to control this behavior.\n",
      "  _warn_prf(average, modifier, f\"{metric.capitalize()} is\", len(result))\n"
     ]
    }
   ],
   "source": [
    "\n",
    "# Calculate Precision and Recall\n",
    "precision = precision_score(true_labels, predicted_labels)\n",
    "recall = recall_score(true_labels, predicted_labels)\n",
    "print(f\"Precision: {precision:.4f}, Recall: {recall:.4f}\")"
   ]
  }
 ],
 "metadata": {
  "kernelspec": {
   "display_name": "env3.10",
   "language": "python",
   "name": "python3"
  },
  "language_info": {
   "codemirror_mode": {
    "name": "ipython",
    "version": 3
   },
   "file_extension": ".py",
   "mimetype": "text/x-python",
   "name": "python",
   "nbconvert_exporter": "python",
   "pygments_lexer": "ipython3",
   "version": "3.10.0"
  }
 },
 "nbformat": 4,
 "nbformat_minor": 2
}
